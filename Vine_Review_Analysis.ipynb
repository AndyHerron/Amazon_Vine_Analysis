{
  "nbformat": 4,
  "nbformat_minor": 0,
  "metadata": {
    "colab": {
      "name": "Vine_Review_Analysis.ipynb",
      "provenance": [],
      "collapsed_sections": [],
      "authorship_tag": "ABX9TyND9yQXSEdbLhNFDTsaQJqQ",
      "include_colab_link": true
    },
    "kernelspec": {
      "name": "python3",
      "display_name": "Python 3"
    },
    "language_info": {
      "name": "python"
    }
  },
  "cells": [
    {
      "cell_type": "markdown",
      "metadata": {
        "id": "view-in-github",
        "colab_type": "text"
      },
      "source": [
        "<a href=\"https://colab.research.google.com/github/AndyHerron/Amazon_Vine_Analysis/blob/main/Vine_Review_Analysis.ipynb\" target=\"_parent\"><img src=\"https://colab.research.google.com/assets/colab-badge.svg\" alt=\"Open In Colab\"/></a>"
      ]
    },
    {
      "cell_type": "code",
      "execution_count": 36,
      "metadata": {
        "colab": {
          "base_uri": "https://localhost:8080/"
        },
        "id": "8dA3DV9h3XA1",
        "outputId": "dec7a955-0d79-45f4-e981-a6c08482c1cb"
      },
      "outputs": [
        {
          "output_type": "stream",
          "name": "stdout",
          "text": [
            "Hit:1 https://cloud.r-project.org/bin/linux/ubuntu bionic-cran40/ InRelease\n",
            "Ign:2 https://developer.download.nvidia.com/compute/cuda/repos/ubuntu1804/x86_64  InRelease\n",
            "Ign:3 https://developer.download.nvidia.com/compute/machine-learning/repos/ubuntu1804/x86_64  InRelease\n",
            "Hit:4 https://developer.download.nvidia.com/compute/cuda/repos/ubuntu1804/x86_64  Release\n",
            "Hit:5 https://developer.download.nvidia.com/compute/machine-learning/repos/ubuntu1804/x86_64  Release\n",
            "Hit:6 http://ppa.launchpad.net/c2d4u.team/c2d4u4.0+/ubuntu bionic InRelease\n",
            "Get:7 http://security.ubuntu.com/ubuntu bionic-security InRelease [88.7 kB]\n",
            "Hit:9 http://archive.ubuntu.com/ubuntu bionic InRelease\n",
            "Get:11 http://archive.ubuntu.com/ubuntu bionic-updates InRelease [88.7 kB]\n",
            "Hit:12 http://ppa.launchpad.net/cran/libgit2/ubuntu bionic InRelease\n",
            "Hit:13 http://ppa.launchpad.net/deadsnakes/ppa/ubuntu bionic InRelease\n",
            "Get:14 http://archive.ubuntu.com/ubuntu bionic-backports InRelease [74.6 kB]\n",
            "Hit:15 http://ppa.launchpad.net/graphics-drivers/ppa/ubuntu bionic InRelease\n",
            "Fetched 252 kB in 3s (86.3 kB/s)\n",
            "Reading package lists... Done\n"
          ]
        }
      ],
      "source": [
        "import os\n",
        "# Find the latest version of spark 3.0 from http://www.apache.org/dist/spark/ and enter as the spark version\n",
        "# For example:\n",
        "# spark_version = 'spark-3.2.1'\n",
        "spark_version = 'spark-3.2.1'\n",
        "os.environ['SPARK_VERSION']=spark_version\n",
        "\n",
        "# Install Spark and Java\n",
        "!apt-get update\n",
        "!apt-get install openjdk-11-jdk-headless -qq > /dev/null\n",
        "!wget -q http://www.apache.org/dist/spark/$SPARK_VERSION/$SPARK_VERSION-bin-hadoop2.7.tgz\n",
        "!tar xf $SPARK_VERSION-bin-hadoop2.7.tgz\n",
        "!pip install -q findspark\n",
        "\n",
        "# Set Environment Variables\n",
        "import os\n",
        "os.environ[\"JAVA_HOME\"] = \"/usr/lib/jvm/java-11-openjdk-amd64\"\n",
        "os.environ[\"SPARK_HOME\"] = f\"/content/{spark_version}-bin-hadoop2.7\"\n",
        "\n",
        "# Start a SparkSession\n",
        "import findspark\n",
        "findspark.init()"
      ]
    },
    {
      "cell_type": "code",
      "source": [
        "# Download the Postgres driver that will allow Spark to interact with Postgres.\n",
        "!wget https://jdbc.postgresql.org/download/postgresql-42.2.16.jar"
      ],
      "metadata": {
        "colab": {
          "base_uri": "https://localhost:8080/"
        },
        "id": "iHNl13Tv3hrg",
        "outputId": "67b821a8-dd39-48b8-acdc-f813ca42c92a"
      },
      "execution_count": 37,
      "outputs": [
        {
          "output_type": "stream",
          "name": "stdout",
          "text": [
            "--2022-03-07 01:42:42--  https://jdbc.postgresql.org/download/postgresql-42.2.16.jar\n",
            "Resolving jdbc.postgresql.org (jdbc.postgresql.org)... 72.32.157.228, 2001:4800:3e1:1::228\n",
            "Connecting to jdbc.postgresql.org (jdbc.postgresql.org)|72.32.157.228|:443... connected.\n",
            "HTTP request sent, awaiting response... 200 OK\n",
            "Length: 1002883 (979K) [application/java-archive]\n",
            "Saving to: ‘postgresql-42.2.16.jar.1’\n",
            "\n",
            "postgresql-42.2.16. 100%[===================>] 979.38K  1.22MB/s    in 0.8s    \n",
            "\n",
            "2022-03-07 01:42:44 (1.22 MB/s) - ‘postgresql-42.2.16.jar.1’ saved [1002883/1002883]\n",
            "\n"
          ]
        }
      ]
    },
    {
      "cell_type": "code",
      "source": [
        "# start a Spark session\n",
        "from pyspark.sql import SparkSession\n",
        "spark = SparkSession.builder.appName(\"M16-Challenge_Deliverable2\").config(\"spark.driver.extraClassPath\",\"/content/postgresql-42.2.16.jar\").getOrCreate()"
      ],
      "metadata": {
        "id": "Ccxg9ckP3nPv"
      },
      "execution_count": 38,
      "outputs": []
    },
    {
      "cell_type": "code",
      "source": [
        "# read in the data from S3 \n",
        "from pyspark import SparkFiles\n",
        "url = \"https://s3.amazonaws.com/amazon-reviews-pds/tsv/amazon_reviews_us_Tools_v1_00.tsv.gz\"\n",
        "spark.sparkContext.addFile(url)\n",
        "df = spark.read.option(\"encoding\", \"UTF-8\").csv(SparkFiles.get(\"amazon_reviews_us_Tools_v1_00.tsv.gz\"), sep=\"\\t\", header=True, inferSchema=True)\n",
        "df.show()"
      ],
      "metadata": {
        "colab": {
          "base_uri": "https://localhost:8080/"
        },
        "id": "PN3wJdqd31RQ",
        "outputId": "d37ab025-6bea-45f6-9e2f-b359b9fed140"
      },
      "execution_count": 39,
      "outputs": [
        {
          "output_type": "stream",
          "name": "stdout",
          "text": [
            "+-----------+-----------+--------------+----------+--------------+--------------------+----------------+-----------+-------------+-----------+----+-----------------+--------------------+--------------------+-----------+\n",
            "|marketplace|customer_id|     review_id|product_id|product_parent|       product_title|product_category|star_rating|helpful_votes|total_votes|vine|verified_purchase|     review_headline|         review_body|review_date|\n",
            "+-----------+-----------+--------------+----------+--------------+--------------------+----------------+-----------+-------------+-----------+----+-----------------+--------------------+--------------------+-----------+\n",
            "|         US|   15785389|R2UM5QMHBHC90Q|B00H5U9ZD6|     115362950|WallPeg 12 sq ft ...|           Tools|          5|            0|          0|   N|                Y|Great organizer, ...|Very nice. Will o...| 2015-08-31|\n",
            "|         US|   47910848|  RF0D1LEIF6L7|B001TJGCS0|     570955425|Nite Ize Nite Daw...|           Tools|          4|            0|          0|   N|                Y|Like it, but the ...|Like it, but the ...| 2015-08-31|\n",
            "|         US|   36328996|  RM6YKIWQVNSY|B000NIK8JW|     128843593|Stanley 84-058 4 ...|           Tools|          1|            6|          6|   N|                Y|        poor quality|We were excited t...| 2015-08-31|\n",
            "|         US|   51785809|R1RL3L68ASPS36|B008ZYRGUA|     407828107|Powerextra 14.4V ...|           Tools|          4|            0|          0|   N|                Y|          Four Stars|Quick delivery. P...| 2015-08-31|\n",
            "|         US|   40757491|R1U4XFBFAG34CY|B00K5CA0GC|     490746675|Waterproof Invisi...|           Tools|          5|            0|          0|   N|                Y|          Five Stars|Quality waterproo...| 2015-08-31|\n",
            "|         US|   35544833|R3KFIK8P0I91PL|B00AIJAA94|     148352067|Crime Scene Do No...|           Tools|          5|            0|          0|   N|                Y|Excellent Decorat...|Ordered for my hu...| 2015-08-31|\n",
            "|         US|   16474909| RENOAY76PPK1O|B00JKEI6K8|     331801084|Aweek® 2 Pcs Bicy...|           Tools|          5|            0|          0|   N|                Y|          Five Stars|GREAT SELLER PROD...| 2015-08-31|\n",
            "|         US|   22601598| RINV884I0NL5V|B00AGCHVS6|     471514859|Ryobi P102 Genuin...|           Tools|          1|            0|          0|   N|                Y|Worked great for ...|My battery has di...| 2015-08-31|\n",
            "|         US|   16129808| R5KJH6CXZH2PX|B002S0O7U4|     162253576|Wiha 66995 6-Piec...|           Tools|          5|            0|          0|   N|                Y|       Great quality|Great product at ...| 2015-08-31|\n",
            "|         US|   24382335| RO69JF6QWD0W1|B0084YHXMW|      69530650|TOMTOP LED Submar...|           Tools|          5|            0|          0|   N|                Y|          Five Stars|           Excellent| 2015-08-31|\n",
            "|         US|   49796324|R3L9NQBH3FI55C|B00MLSS1SW|     916693555|Black & Decker BD...|           Tools|          4|            1|          1|   N|                Y|Really worked great!|This little sande...| 2015-08-31|\n",
            "|         US|   33289687| R4YH95YPHVU0C|B00D4WLS2A|      39333316|Crain 126 Staple ...|           Tools|          5|            0|          0|   N|                Y|         LOVE IT!!!!|This is the most ...| 2015-08-31|\n",
            "|         US|   10916386|R10M1WWDDQBGG2|B00JGCDV5Y|     550596607|Diamond Semi Roun...|           Tools|          2|            0|          0|   N|                Y|I needed to cut s...|I needed to cut s...| 2015-08-31|\n",
            "|         US|   34071500| RV3KWQBTNIO62|B00N0PS3YM|     735538025|It Mall 9 LED 375...|           Tools|          5|            1|          1|   N|                Y|   Works pretty well|Lights up small d...| 2015-08-31|\n",
            "|         US|   50594486|R1M7YUNLZI0G9F|B0000DD4KV|     506501960|IRWIN Tools Metri...|           Tools|          5|            1|          1|   N|                Y|          Five Stars|Great product for...| 2015-08-31|\n",
            "|         US|   21945887|R2MTL2D4E4HEF4|B0009H5FB8|     268586246|743022-A Backing ...|           Tools|          5|            0|          0|   N|                Y|          Five Stars|Many thanks for t...| 2015-08-31|\n",
            "|         US|   47749608| RXAHWIC1584UQ|B00NKSMPZW|     824618679|ClearArmor 141001...|           Tools|          5|           20|         23|   N|                Y|          Five Stars|geart product :) ...| 2015-08-31|\n",
            "|         US|   48880662| RMOIQFERVQDWS|B00RBAB92K|     156791442|KKmoon 9cm Mini A...|           Tools|          5|            0|          0|   N|                Y|          Five Stars|           very good| 2015-08-31|\n",
            "|         US|    4660265| R710G45MKODY9|B00QGBNZVI|     962324810|Refun E6 High Pow...|           Tools|          2|            1|          1|   N|                Y|           Two Stars|Scratches on lenses.| 2015-08-31|\n",
            "|         US|   18397238|R23ZIUGUM7TBMY|B00XXU3CDG|     543062309|Dr.meter S20 Mois...|           Tools|          1|            0|          1|   N|                Y|Don't waste your ...|It's a piece of $...| 2015-08-31|\n",
            "+-----------+-----------+--------------+----------+--------------+--------------------+----------------+-----------+-------------+-----------+----+-----------------+--------------------+--------------------+-----------+\n",
            "only showing top 20 rows\n",
            "\n"
          ]
        }
      ]
    },
    {
      "cell_type": "code",
      "source": [
        "# Drop null values\n",
        "dropna_df= df.dropna()\n",
        "\n",
        "# Create the vine_table. DataFrame\n",
        "from pyspark.sql.types import IntegerType\n",
        "dropna_df = dropna_df.withColumn(\"star_rating\", dropna_df[\"star_rating\"].cast(IntegerType()))\n",
        "vine_df = dropna_df.select(['review_id','star_rating','helpful_votes','total_votes','vine','verified_purchase'])\n",
        "vine_df.show()"
      ],
      "metadata": {
        "colab": {
          "base_uri": "https://localhost:8080/"
        },
        "id": "JJNR5WoC4MZI",
        "outputId": "2801fb99-e714-44c8-c09a-17296cc8486c"
      },
      "execution_count": 40,
      "outputs": [
        {
          "output_type": "stream",
          "name": "stdout",
          "text": [
            "+--------------+-----------+-------------+-----------+----+-----------------+\n",
            "|     review_id|star_rating|helpful_votes|total_votes|vine|verified_purchase|\n",
            "+--------------+-----------+-------------+-----------+----+-----------------+\n",
            "|R2UM5QMHBHC90Q|          5|            0|          0|   N|                Y|\n",
            "|  RF0D1LEIF6L7|          4|            0|          0|   N|                Y|\n",
            "|  RM6YKIWQVNSY|          1|            6|          6|   N|                Y|\n",
            "|R1RL3L68ASPS36|          4|            0|          0|   N|                Y|\n",
            "|R1U4XFBFAG34CY|          5|            0|          0|   N|                Y|\n",
            "|R3KFIK8P0I91PL|          5|            0|          0|   N|                Y|\n",
            "| RENOAY76PPK1O|          5|            0|          0|   N|                Y|\n",
            "| RINV884I0NL5V|          1|            0|          0|   N|                Y|\n",
            "| R5KJH6CXZH2PX|          5|            0|          0|   N|                Y|\n",
            "| RO69JF6QWD0W1|          5|            0|          0|   N|                Y|\n",
            "|R3L9NQBH3FI55C|          4|            1|          1|   N|                Y|\n",
            "| R4YH95YPHVU0C|          5|            0|          0|   N|                Y|\n",
            "|R10M1WWDDQBGG2|          2|            0|          0|   N|                Y|\n",
            "| RV3KWQBTNIO62|          5|            1|          1|   N|                Y|\n",
            "|R1M7YUNLZI0G9F|          5|            1|          1|   N|                Y|\n",
            "|R2MTL2D4E4HEF4|          5|            0|          0|   N|                Y|\n",
            "| RXAHWIC1584UQ|          5|           20|         23|   N|                Y|\n",
            "| RMOIQFERVQDWS|          5|            0|          0|   N|                Y|\n",
            "| R710G45MKODY9|          2|            1|          1|   N|                Y|\n",
            "|R23ZIUGUM7TBMY|          1|            0|          1|   N|                Y|\n",
            "+--------------+-----------+-------------+-----------+----+-----------------+\n",
            "only showing top 20 rows\n",
            "\n"
          ]
        }
      ]
    },
    {
      "cell_type": "code",
      "source": [
        "vine_df.dtypes"
      ],
      "metadata": {
        "colab": {
          "base_uri": "https://localhost:8080/"
        },
        "id": "TafsMqIdBkui",
        "outputId": "b959357c-7bf0-4b56-86a6-330150afaaea"
      },
      "execution_count": 41,
      "outputs": [
        {
          "output_type": "execute_result",
          "data": {
            "text/plain": [
              "[('review_id', 'string'),\n",
              " ('star_rating', 'int'),\n",
              " ('helpful_votes', 'int'),\n",
              " ('total_votes', 'int'),\n",
              " ('vine', 'string'),\n",
              " ('verified_purchase', 'string')]"
            ]
          },
          "metadata": {},
          "execution_count": 41
        }
      ]
    },
    {
      "cell_type": "code",
      "source": [
        "# filter the dataframe to only include reviews with 20 or more votes\n",
        "votes20_df = vine_df.filter(vine_df.total_votes >= '20')"
      ],
      "metadata": {
        "id": "m5oWtnPX8hO3"
      },
      "execution_count": 42,
      "outputs": []
    },
    {
      "cell_type": "code",
      "source": [
        "# filter the votes20_df dataframe to only rows where helpful_votes/total_votes > 50%\n",
        "helpful_votes_df = votes20_df.filter((votes20_df.helpful_votes / votes20_df.total_votes) >= '0.5')\n",
        "helpful_votes_df.show(truncate=False)"
      ],
      "metadata": {
        "colab": {
          "base_uri": "https://localhost:8080/"
        },
        "id": "aUUdrHBxB8Pn",
        "outputId": "2375e43e-5567-4fb2-d289-139a39cc4e2e"
      },
      "execution_count": 43,
      "outputs": [
        {
          "output_type": "stream",
          "name": "stdout",
          "text": [
            "+--------------+-----------+-------------+-----------+----+-----------------+\n",
            "|review_id     |star_rating|helpful_votes|total_votes|vine|verified_purchase|\n",
            "+--------------+-----------+-------------+-----------+----+-----------------+\n",
            "|RXAHWIC1584UQ |5          |20           |23         |N   |Y                |\n",
            "|RSBELAIC899DO |5          |46           |51         |N   |Y                |\n",
            "|R2HCC4CJ59D225|4          |43           |43         |N   |Y                |\n",
            "|RL9VF9WXHEHKR |5          |35           |36         |N   |Y                |\n",
            "|R1ZINLWUOLTZ46|1          |39           |45         |N   |N                |\n",
            "|R1CQKM1K1CHOHS|1          |21           |22         |N   |N                |\n",
            "|R2DHAM7J1KMWN |5          |23           |24         |N   |N                |\n",
            "|R26EZ2INBETPU2|1          |103          |128        |N   |N                |\n",
            "|R265ZMDO2ISN1O|5          |20           |21         |N   |Y                |\n",
            "|R3NZ7JTOCPYE1S|4          |32           |33         |N   |Y                |\n",
            "|R15JJ5AGVSB71T|5          |33           |33         |N   |Y                |\n",
            "|R28WDBNT2XRACG|1          |19           |24         |N   |Y                |\n",
            "|R3HP224QDFQ2SN|5          |21           |22         |N   |Y                |\n",
            "|RTURVI4KNPMG1 |5          |146          |154        |N   |Y                |\n",
            "|RH2BXZ337F38J |5          |62           |66         |N   |Y                |\n",
            "|R3G8L2NRMZZHPI|4          |23           |23         |N   |Y                |\n",
            "|R21Q3I2ZEDSMZK|5          |80           |84         |N   |Y                |\n",
            "|R16MXXKY0MRKZW|1          |48           |52         |N   |Y                |\n",
            "|R121P6RES3Z7WC|1          |145          |162        |N   |Y                |\n",
            "|R1ILUNGUCRZGF3|5          |21           |21         |N   |Y                |\n",
            "+--------------+-----------+-------------+-----------+----+-----------------+\n",
            "only showing top 20 rows\n",
            "\n"
          ]
        }
      ]
    },
    {
      "cell_type": "code",
      "source": [
        "# filter the data to retrieve all the rows where a vine review is written\n",
        "vine_reviews_df = helpful_votes_df.filter(helpful_votes_df.vine == \"Y\")\n",
        "vine_reviews_df.show(truncate=False)"
      ],
      "metadata": {
        "colab": {
          "base_uri": "https://localhost:8080/"
        },
        "id": "wod0m4a3oLV-",
        "outputId": "547a3c63-ef3a-4244-fb04-05e2a0765095"
      },
      "execution_count": 44,
      "outputs": [
        {
          "output_type": "stream",
          "name": "stdout",
          "text": [
            "+--------------+-----------+-------------+-----------+----+-----------------+\n",
            "|review_id     |star_rating|helpful_votes|total_votes|vine|verified_purchase|\n",
            "+--------------+-----------+-------------+-----------+----+-----------------+\n",
            "|R3QIQRG107AP19|5          |38           |41         |Y   |N                |\n",
            "|R1ZNBHGCYE8VN1|5          |175          |181        |Y   |N                |\n",
            "|R1BNZJ9IKGRBC2|4          |63           |70         |Y   |N                |\n",
            "|R2IXTN4PBRHBO2|5          |19           |24         |Y   |N                |\n",
            "|R32AOW3L09SYMQ|5          |29           |34         |Y   |N                |\n",
            "|R34Z4VTLF7PC6X|4          |33           |36         |Y   |N                |\n",
            "|R25403NE9JCRZZ|2          |36           |40         |Y   |N                |\n",
            "|R2QT2G3YRGC0PS|5          |18           |20         |Y   |N                |\n",
            "|RDUP15OURNUSA |5          |22           |23         |Y   |N                |\n",
            "|R1EI4NZTG7G14F|5          |17           |23         |Y   |N                |\n",
            "|R2G0YB0MC67NLG|5          |29           |38         |Y   |N                |\n",
            "|RGA1PHAE93JR2 |1          |16           |21         |Y   |N                |\n",
            "|R1QS5MKSKOGG0U|5          |15           |20         |Y   |N                |\n",
            "|R3MVW880K2V5BK|3          |37           |46         |Y   |N                |\n",
            "|R11JKXPSMHSZY1|4          |21           |28         |Y   |N                |\n",
            "|RSPSTXGY3OD8  |5          |29           |33         |Y   |N                |\n",
            "|RQO0NNMNWRLB4 |3          |47           |54         |Y   |N                |\n",
            "|R3H5BSP5KCFHBG|4          |19           |21         |Y   |N                |\n",
            "|R2AIJIWME1WDKN|5          |16           |24         |Y   |N                |\n",
            "|R585MGH89JZZ5 |5          |27           |34         |Y   |N                |\n",
            "+--------------+-----------+-------------+-----------+----+-----------------+\n",
            "only showing top 20 rows\n",
            "\n"
          ]
        }
      ]
    },
    {
      "cell_type": "code",
      "source": [
        "# filter the data to retrieve all the rows that do not include a vine review\n",
        "no_vine_df = helpful_votes_df.filter(helpful_votes_df.vine == \"N\")\n",
        "no_vine_df.show(truncate=False)"
      ],
      "metadata": {
        "colab": {
          "base_uri": "https://localhost:8080/"
        },
        "id": "VS42lsUC6Xsz",
        "outputId": "d510234e-4be0-4973-a1c0-927d40194e90"
      },
      "execution_count": 45,
      "outputs": [
        {
          "output_type": "stream",
          "name": "stdout",
          "text": [
            "+--------------+-----------+-------------+-----------+----+-----------------+\n",
            "|review_id     |star_rating|helpful_votes|total_votes|vine|verified_purchase|\n",
            "+--------------+-----------+-------------+-----------+----+-----------------+\n",
            "|RXAHWIC1584UQ |5          |20           |23         |N   |Y                |\n",
            "|RSBELAIC899DO |5          |46           |51         |N   |Y                |\n",
            "|R2HCC4CJ59D225|4          |43           |43         |N   |Y                |\n",
            "|RL9VF9WXHEHKR |5          |35           |36         |N   |Y                |\n",
            "|R1ZINLWUOLTZ46|1          |39           |45         |N   |N                |\n",
            "|R1CQKM1K1CHOHS|1          |21           |22         |N   |N                |\n",
            "|R2DHAM7J1KMWN |5          |23           |24         |N   |N                |\n",
            "|R26EZ2INBETPU2|1          |103          |128        |N   |N                |\n",
            "|R265ZMDO2ISN1O|5          |20           |21         |N   |Y                |\n",
            "|R3NZ7JTOCPYE1S|4          |32           |33         |N   |Y                |\n",
            "|R15JJ5AGVSB71T|5          |33           |33         |N   |Y                |\n",
            "|R28WDBNT2XRACG|1          |19           |24         |N   |Y                |\n",
            "|R3HP224QDFQ2SN|5          |21           |22         |N   |Y                |\n",
            "|RTURVI4KNPMG1 |5          |146          |154        |N   |Y                |\n",
            "|RH2BXZ337F38J |5          |62           |66         |N   |Y                |\n",
            "|R3G8L2NRMZZHPI|4          |23           |23         |N   |Y                |\n",
            "|R21Q3I2ZEDSMZK|5          |80           |84         |N   |Y                |\n",
            "|R16MXXKY0MRKZW|1          |48           |52         |N   |Y                |\n",
            "|R121P6RES3Z7WC|1          |145          |162        |N   |Y                |\n",
            "|R1ILUNGUCRZGF3|5          |21           |21         |N   |Y                |\n",
            "+--------------+-----------+-------------+-----------+----+-----------------+\n",
            "only showing top 20 rows\n",
            "\n"
          ]
        }
      ]
    },
    {
      "cell_type": "code",
      "source": [
        "# determine the total number of reviews\n",
        "vine_df.count()"
      ],
      "metadata": {
        "colab": {
          "base_uri": "https://localhost:8080/"
        },
        "id": "EBADvrPKqc6L",
        "outputId": "0b780c75-cb7c-40b9-e58a-709f6a0e2059"
      },
      "execution_count": 46,
      "outputs": [
        {
          "output_type": "execute_result",
          "data": {
            "text/plain": [
              "1740974"
            ]
          },
          "metadata": {},
          "execution_count": 46
        }
      ]
    },
    {
      "cell_type": "code",
      "source": [
        "# determine the number of 5 star reviews\n",
        "vine_df.filter(vine_df.star_rating == \"5\").count()"
      ],
      "metadata": {
        "colab": {
          "base_uri": "https://localhost:8080/"
        },
        "id": "uBhV4GeUrzzi",
        "outputId": "54505cf4-d8aa-4642-fb2b-e678b7dc3d6d"
      },
      "execution_count": 47,
      "outputs": [
        {
          "output_type": "execute_result",
          "data": {
            "text/plain": [
              "1113482"
            ]
          },
          "metadata": {},
          "execution_count": 47
        }
      ]
    },
    {
      "cell_type": "code",
      "source": [
        "# determine the percentage of 5 star reviews for vine_reviews_df\n",
        "vine_5star= vine_reviews_df.filter(vine_reviews_df.star_rating == \"5\").count()\n",
        "vine_percent = (vine_5star / vine_reviews_df.count()) * 100\n",
        "# vine_reviews_df.count()\n",
        "vine_5star\n",
        "# vine_percent"
      ],
      "metadata": {
        "colab": {
          "base_uri": "https://localhost:8080/"
        },
        "id": "_QBqAzHBsd9J",
        "outputId": "72bf9ebf-d9d0-4b3a-cafa-5a3c50b9e095"
      },
      "execution_count": 50,
      "outputs": [
        {
          "output_type": "execute_result",
          "data": {
            "text/plain": [
              "163"
            ]
          },
          "metadata": {},
          "execution_count": 50
        }
      ]
    },
    {
      "cell_type": "code",
      "source": [
        "# determine the percentage of 5 star reviews for no_vine_df\n",
        "no_vine_5star= no_vine_df.filter(no_vine_df.star_rating == \"5\").count()\n",
        "no_vine_percent = (no_vine_5star / no_vine_df.count()) * 100\n",
        "# no_vine_percent\n",
        "# no_vine_df.count()\n",
        "no_vine_5star"
      ],
      "metadata": {
        "colab": {
          "base_uri": "https://localhost:8080/"
        },
        "id": "Z9diHnm3uGd9",
        "outputId": "c980c93b-3c37-4b18-b78d-c419e5357b1f"
      },
      "execution_count": 52,
      "outputs": [
        {
          "output_type": "execute_result",
          "data": {
            "text/plain": [
              "14614"
            ]
          },
          "metadata": {},
          "execution_count": 52
        }
      ]
    },
    {
      "cell_type": "code",
      "source": [
        "# determine the percentage of 5 star reviews overall\n",
        "all_5star= vine_df.filter(vine_df.star_rating == \"5\").count()\n",
        "all_5star_percent = (all_5star / vine_df.count()) * 100\n",
        "all_5star_percent"
      ],
      "metadata": {
        "colab": {
          "base_uri": "https://localhost:8080/"
        },
        "id": "lupvJc8xutIz",
        "outputId": "c86d9f6b-c0a0-4e2e-e89c-6758b4bf1243"
      },
      "execution_count": null,
      "outputs": [
        {
          "output_type": "execute_result",
          "data": {
            "text/plain": [
              "63.95741694017257"
            ]
          },
          "metadata": {},
          "execution_count": 34
        }
      ]
    },
    {
      "cell_type": "code",
      "source": [
        "# determine the percentage of 5 star reviews with 20 or more votes\n",
        "filtered_5star= votes20_df.filter(votes20_df.star_rating == \"5\").count()\n",
        "filtered_5star_percent = (filtered_5star / votes20_df.count()) * 100\n",
        "filtered_5star_percent"
      ],
      "metadata": {
        "colab": {
          "base_uri": "https://localhost:8080/"
        },
        "id": "l9crKXCLvpTL",
        "outputId": "1b0b6135-e516-4010-92f9-c644ecf9b479"
      },
      "execution_count": null,
      "outputs": [
        {
          "output_type": "execute_result",
          "data": {
            "text/plain": [
              "42.84743266589255"
            ]
          },
          "metadata": {},
          "execution_count": 26
        }
      ]
    },
    {
      "cell_type": "code",
      "source": [
        "# determine the percentage of 5 star reviews within helpful_votes_df\n",
        "helped_5star= helpful_votes_df.filter(helpful_votes_df.star_rating == \"5\").count()\n",
        "helped_5star_percent = (helped_5star / helpful_votes_df.count()) * 100\n",
        "helped_5star_percent"
      ],
      "metadata": {
        "colab": {
          "base_uri": "https://localhost:8080/"
        },
        "id": "-Bh-QT6QypI4",
        "outputId": "ea91dbab-8893-4f8b-a963-6a2fae0ff85a"
      },
      "execution_count": null,
      "outputs": [
        {
          "output_type": "execute_result",
          "data": {
            "text/plain": [
              "46.429132497564964"
            ]
          },
          "metadata": {},
          "execution_count": 35
        }
      ]
    }
  ]
}